{
 "cells": [
  {
   "cell_type": "code",
   "execution_count": 64,
   "id": "80e1d1e1",
   "metadata": {},
   "outputs": [],
   "source": [
    "from datetime import datetime\n",
    "import os"
   ]
  },
  {
   "cell_type": "code",
   "execution_count": 65,
   "id": "8c037445",
   "metadata": {},
   "outputs": [],
   "source": [
    "date = datetime.now()\n",
    "now = str(date.year)+'-'+str(date.month)+'-'+str(date.day)+' '+str(date.hour)+':'+str(date.minute)+':'+str(date.second)"
   ]
  },
  {
   "cell_type": "code",
   "execution_count": 66,
   "id": "083b4d78",
   "metadata": {},
   "outputs": [
    {
     "name": "stdout",
     "output_type": "stream",
     "text": [
      "2022-12-5 14:11:32\n"
     ]
    }
   ],
   "source": [
    "print(now)"
   ]
  },
  {
   "cell_type": "code",
   "execution_count": 71,
   "id": "583253d1",
   "metadata": {},
   "outputs": [
    {
     "data": {
      "text/plain": [
       "'goanca'"
      ]
     },
     "execution_count": 71,
     "metadata": {},
     "output_type": "execute_result"
    }
   ],
   "source": [
    "os.environ.get('USER')"
   ]
  },
  {
   "cell_type": "code",
   "execution_count": 75,
   "id": "83f9e1e8",
   "metadata": {},
   "outputs": [],
   "source": [
    "top = 'topol.top'"
   ]
  },
  {
   "cell_type": "code",
   "execution_count": 76,
   "id": "1e448891",
   "metadata": {},
   "outputs": [],
   "source": [
    "with open(top) as f:\n",
    "    data = f.read().split(\"\\n\")"
   ]
  },
  {
   "cell_type": "code",
   "execution_count": 80,
   "id": "e32cc367",
   "metadata": {},
   "outputs": [
    {
     "data": {
      "text/plain": [
       "['; ----------------------------------------------------------------------',\n",
       " ';',\n",
       " \";\\tFile 'topol.top' was generated\"]"
      ]
     },
     "execution_count": 80,
     "metadata": {},
     "output_type": "execute_result"
    }
   ],
   "source": [
    "data[7:10]"
   ]
  },
  {
   "cell_type": "code",
   "execution_count": null,
   "id": "e94ebf54",
   "metadata": {},
   "outputs": [],
   "source": [
    "a='[ atoms ]'"
   ]
  }
 ],
 "metadata": {
  "kernelspec": {
   "display_name": "Python 3 (ipykernel)",
   "language": "python",
   "name": "python3"
  },
  "language_info": {
   "codemirror_mode": {
    "name": "ipython",
    "version": 3
   },
   "file_extension": ".py",
   "mimetype": "text/x-python",
   "name": "python",
   "nbconvert_exporter": "python",
   "pygments_lexer": "ipython3",
   "version": "3.9.15"
  }
 },
 "nbformat": 4,
 "nbformat_minor": 5
}
