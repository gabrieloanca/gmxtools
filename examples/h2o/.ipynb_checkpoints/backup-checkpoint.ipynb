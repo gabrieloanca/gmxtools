{
 "cells": [
  {
   "cell_type": "code",
   "execution_count": null,
   "id": "c164fc25",
   "metadata": {},
   "outputs": [],
   "source": [
    "def bonds_list(rs, ps, rs_files, ps_files, q1pdb, q2pdb, q1, q2, bmorse):\n",
    "\n",
    "    def pour(bonds, bonds_x2y, data, state):\n",
    "        if state == 'rs':\n",
    "            for l in data:\n",
    "                #bonds.append([l[0], l[1], morse, '<b0>', '<D>', '<beta>', '<b0>', 0.0, 0.0])\n",
    "                bonds.append([l[0], l[1], harmonic, l[2], l[3], 0.0, 0.0])\n",
    "                bonds_x2y.append((l[:2], 25))   # 25 means 1-2 in RS and >= 1-5 in PS\n",
    "        elif state == 'ps':\n",
    "            for l in data:\n",
    "                bonds.append([l[0], l[1], harmonic, 0.0, 0.0, l[2], l[3]])\n",
    "                bonds_x2y.append((l[:2], 52))\n",
    "    \n",
    "    if rs_files:\n",
    "        get_files(rs, rs_files, rsbf)\n",
    "    if ps_files:\n",
    "        get_files(ps, ps_files, psbf)            \n",
    "            \n",
    "    if rsbf:\n",
    "        get_bonds(rsbf, q1pdb, q1, rs_bonds)\n",
    "    if psbf:\n",
    "        get_bonds(psbf, q2pdb, q2, ps_bonds)\n",
    "    \n",
    "    if rs_bonds and ps_bonds:\n",
    "        check_bonds(bonds, bonds_x2y, rs_bonds, ps_bonds)\n",
    "    elif (rs_bonds) and (not ps_bonds):\n",
    "        pour(bonds, bonds_x2y, rs_bonds, \"rs\")\n",
    "    elif (not rs_bonds) and (ps_bonds):\n",
    "        pour(bonds, bonds_x2y, ps_bonds, \"ps\")    \n",
    "    \n",
    "    # substitute the forming/breaking bonds with morse\n",
    "    if bmorse:\n",
    "        substitute_morse(bonds, bmorse)"
   ]
  },
  {
   "cell_type": "code",
   "execution_count": null,
   "id": "8745c9a0",
   "metadata": {},
   "outputs": [],
   "source": [
    "def angles_list(rs, ps, rs_files, ps_files, q1pdb, q2pdb, q1, q2):\n",
    "    \n",
    "    def pour(angles, angles_x2y, data, state):\n",
    "        if state == 'rs':\n",
    "            for l in data:\n",
    "                angles.append([l[0], l[1], l[2], func, l[3], l[4], 0.0, 0.0])\n",
    "                angles_x2y.append((l[:3], 35))\n",
    "        elif state == 'ps':\n",
    "            for l in data:\n",
    "                angles.append([l[0], l[1], l[2], func, 0.0, 0.0, l[3], l[4]])\n",
    "                angles_x2y.append((l[:3], 53))    \n",
    "    \n",
    "    if rs_files:\n",
    "        get_files(rs, rs_files, rsaf)\n",
    "    if ps_files:\n",
    "        get_files(ps, ps_files, psaf)\n",
    "                \n",
    "    if rsaf:\n",
    "        get_angles(rsaf, q1pdb, q1, rs_angles)\n",
    "    if psaf:\n",
    "        get_angles(psaf, q2pdb, q2, ps_angles)\n",
    "        \n",
    "    if rs_angles and ps_angles:\n",
    "        check_angles(angles, angles_x2y, rs_angles, ps_angles)\n",
    "    elif (rs_angles) and (not ps_angles):\n",
    "        pour(angles, angles_x2y, rs_angles, \"rs\")\n",
    "    elif (not rs_angles) and (ps_angles):\n",
    "        pour(angles, angles_x2y, ps_angles, \"ps\")    "
   ]
  },
  {
   "cell_type": "code",
   "execution_count": null,
   "id": "1441a661",
   "metadata": {},
   "outputs": [],
   "source": []
  },
  {
   "cell_type": "code",
   "execution_count": null,
   "id": "b3f0f026",
   "metadata": {},
   "outputs": [],
   "source": []
  },
  {
   "cell_type": "code",
   "execution_count": null,
   "id": "34eae3a2",
   "metadata": {},
   "outputs": [],
   "source": []
  },
  {
   "cell_type": "code",
   "execution_count": null,
   "id": "4ef208d1",
   "metadata": {},
   "outputs": [],
   "source": []
  },
  {
   "cell_type": "code",
   "execution_count": null,
   "id": "3c8e787c",
   "metadata": {},
   "outputs": [],
   "source": []
  }
 ],
 "metadata": {
  "kernelspec": {
   "display_name": "Python 3 (ipykernel)",
   "language": "python",
   "name": "python3"
  },
  "language_info": {
   "codemirror_mode": {
    "name": "ipython",
    "version": 3
   },
   "file_extension": ".py",
   "mimetype": "text/x-python",
   "name": "python",
   "nbconvert_exporter": "python",
   "pygments_lexer": "ipython3",
   "version": "3.9.10"
  }
 },
 "nbformat": 4,
 "nbformat_minor": 5
}
