{
 "cells": [
  {
   "cell_type": "code",
   "execution_count": 1,
   "metadata": {},
   "outputs": [],
   "source": [
    "import sys"
   ]
  },
  {
   "cell_type": "code",
   "execution_count": 2,
   "metadata": {},
   "outputs": [],
   "source": [
    "### kcal/mol/A^2 -> kJ/mol/nm^2\n",
    "#   0.03 ->    12.5\n",
    "#   0.5  ->   210.0\n",
    "#   2.0  ->  1000.0\n",
    "#  20.0  ->  8368.0\n",
    "# 200.0  -> 83680.0"
   ]
  },
  {
   "cell_type": "code",
   "execution_count": 3,
   "metadata": {},
   "outputs": [],
   "source": [
    "posre = 'posre.itp'\n",
    "con1 = 83680.0\n",
    "con2 = 83680.0\n",
    "out = 'posre200.itp'"
   ]
  },
  {
   "cell_type": "code",
   "execution_count": 4,
   "metadata": {},
   "outputs": [],
   "source": [
    "r1 = (1,2,3,4,5,6)"
   ]
  },
  {
   "cell_type": "code",
   "execution_count": 5,
   "metadata": {},
   "outputs": [],
   "source": [
    "with open(posre) as f:\n",
    "    data = f.read().split(\"\\n\")"
   ]
  },
  {
   "cell_type": "code",
   "execution_count": 6,
   "metadata": {},
   "outputs": [],
   "source": [
    "for line in data:\n",
    "    #print(line)\n",
    "    if \"position_restraints\" in line:\n",
    "        ind = data.index(line)"
   ]
  },
  {
   "cell_type": "code",
   "execution_count": 7,
   "metadata": {},
   "outputs": [],
   "source": [
    "for i in range(ind+2, len(data)-1):\n",
    "    line = data[i]\n",
    "    line = line.split()\n",
    "    if int(line[0]) in r1:\n",
    "        #print(line)\n",
    "        newline = f'{line[0]:>6}     {line[1]} {con1:>8.2f} {con1:8.2f} {con1:8.2f}'\n",
    "    else:\n",
    "        newline = f'{line[0]:>6}     {line[1]} {con2:>8.2f} {con2:8.2f} {con2:8.2f}'\n",
    "    data[i] = newline"
   ]
  },
  {
   "cell_type": "code",
   "execution_count": 8,
   "metadata": {},
   "outputs": [],
   "source": [
    "with open(out , \"w\") as f:\n",
    "    for l in data:\n",
    "        f.write(l + '\\n')"
   ]
  },
  {
   "cell_type": "code",
   "execution_count": null,
   "metadata": {},
   "outputs": [],
   "source": []
  },
  {
   "cell_type": "code",
   "execution_count": null,
   "metadata": {},
   "outputs": [],
   "source": []
  }
 ],
 "metadata": {
  "kernelspec": {
   "display_name": "Python 3 (ipykernel)",
   "language": "python",
   "name": "python3"
  },
  "language_info": {
   "codemirror_mode": {
    "name": "ipython",
    "version": 3
   },
   "file_extension": ".py",
   "mimetype": "text/x-python",
   "name": "python",
   "nbconvert_exporter": "python",
   "pygments_lexer": "ipython3",
   "version": "3.9.12"
  }
 },
 "nbformat": 4,
 "nbformat_minor": 2
}
